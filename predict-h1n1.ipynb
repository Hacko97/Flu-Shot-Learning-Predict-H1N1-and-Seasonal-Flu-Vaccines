{
  "nbformat": 4,
  "nbformat_minor": 0,
  "metadata": {
    "kernelspec": {
      "display_name": "Python 3",
      "language": "python",
      "name": "python3"
    },
    "language_info": {
      "codemirror_mode": {
        "name": "ipython",
        "version": 3
      },
      "file_extension": ".py",
      "mimetype": "text/x-python",
      "name": "python",
      "nbconvert_exporter": "python",
      "pygments_lexer": "ipython3",
      "version": "3.7.6"
    },
    "colab": {
      "name": "Copy of best_0.8629.ipynb",
      "provenance": [],
      "collapsed_sections": []
    }
  },
  "cells": [
    {
      "cell_type": "code",
      "metadata": {
        "colab": {
          "base_uri": "https://localhost:8080/"
        },
        "id": "LqMT8R6HQph6",
        "outputId": "3af2c61b-8efb-43c7-f70a-079bf8d2b2d4"
      },
      "source": [
        "from google.colab import drive\n",
        "drive.mount('/content/drive')"
      ],
      "execution_count": null,
      "outputs": [
        {
          "output_type": "stream",
          "name": "stdout",
          "text": [
            "Mounted at /content/drive\n"
          ]
        }
      ]
    },
    {
      "cell_type": "code",
      "metadata": {
        "colab": {
          "base_uri": "https://localhost:8080/"
        },
        "id": "M4aVSd7pQt0c",
        "outputId": "cf13e590-86d3-4591-8427-72289adef00e"
      },
      "source": [
        "!pip install catboost\n"
      ],
      "execution_count": null,
      "outputs": [
        {
          "output_type": "stream",
          "name": "stdout",
          "text": [
            "Collecting catboost\n",
            "  Downloading catboost-1.0.0-cp37-none-manylinux1_x86_64.whl (76.4 MB)\n",
            "\u001b[K     |████████████████████████████████| 76.4 MB 27 kB/s \n",
            "\u001b[?25hRequirement already satisfied: numpy>=1.16.0 in /usr/local/lib/python3.7/dist-packages (from catboost) (1.19.5)\n",
            "Requirement already satisfied: matplotlib in /usr/local/lib/python3.7/dist-packages (from catboost) (3.2.2)\n",
            "Requirement already satisfied: pandas>=0.24.0 in /usr/local/lib/python3.7/dist-packages (from catboost) (1.1.5)\n",
            "Requirement already satisfied: graphviz in /usr/local/lib/python3.7/dist-packages (from catboost) (0.10.1)\n",
            "Requirement already satisfied: plotly in /usr/local/lib/python3.7/dist-packages (from catboost) (4.4.1)\n",
            "Requirement already satisfied: six in /usr/local/lib/python3.7/dist-packages (from catboost) (1.15.0)\n",
            "Requirement already satisfied: scipy in /usr/local/lib/python3.7/dist-packages (from catboost) (1.4.1)\n",
            "Requirement already satisfied: pytz>=2017.2 in /usr/local/lib/python3.7/dist-packages (from pandas>=0.24.0->catboost) (2018.9)\n",
            "Requirement already satisfied: python-dateutil>=2.7.3 in /usr/local/lib/python3.7/dist-packages (from pandas>=0.24.0->catboost) (2.8.2)\n",
            "Requirement already satisfied: pyparsing!=2.0.4,!=2.1.2,!=2.1.6,>=2.0.1 in /usr/local/lib/python3.7/dist-packages (from matplotlib->catboost) (2.4.7)\n",
            "Requirement already satisfied: kiwisolver>=1.0.1 in /usr/local/lib/python3.7/dist-packages (from matplotlib->catboost) (1.3.2)\n",
            "Requirement already satisfied: cycler>=0.10 in /usr/local/lib/python3.7/dist-packages (from matplotlib->catboost) (0.10.0)\n",
            "Requirement already satisfied: retrying>=1.3.3 in /usr/local/lib/python3.7/dist-packages (from plotly->catboost) (1.3.3)\n",
            "Installing collected packages: catboost\n",
            "Successfully installed catboost-1.0.0\n"
          ]
        }
      ]
    },
    {
      "cell_type": "code",
      "metadata": {
        "id": "A-pAM3CAQgrV"
      },
      "source": [
        "import numpy as np\n",
        "import matplotlib.pyplot as plt\n",
        "import pandas as pd\n",
        "import seaborn as sns\n",
        "from sklearn.cluster import KMeans\n",
        "from sklearn.model_selection import StratifiedKFold,train_test_split,KFold\n",
        "from sklearn.ensemble import RandomForestClassifier,ExtraTreesClassifier\n",
        "from xgboost import XGBClassifier\n",
        "from lightgbm import LGBMClassifier\n",
        "from sklearn.metrics import roc_auc_score\n",
        "from catboost import Pool,CatBoostClassifier\n",
        "import warnings"
      ],
      "execution_count": null,
      "outputs": []
    },
    {
      "cell_type": "code",
      "metadata": {
        "id": "gXb8-BCPQgrY"
      },
      "source": [
        "def freq_enc(df,cols):\n",
        "    for col in cols:\n",
        "        df[col] = df[col].map(df[col].value_counts().to_dict())/len(df)\n",
        "    return df"
      ],
      "execution_count": null,
      "outputs": []
    },
    {
      "cell_type": "code",
      "metadata": {
        "id": "La1iekZUQgrZ"
      },
      "source": [
        "train_set = pd.read_csv('/content/drive/MyDrive/Colab Notebooks/PredictH1N1/training_set_features.csv')\n",
        "train_label = pd.read_csv('/content/drive/MyDrive/Colab Notebooks/PredictH1N1/training_set_labels.csv')\n",
        "test_set = pd.read_csv('/content/drive/MyDrive/Colab Notebooks/PredictH1N1/test_set_features.csv')\n",
        "submission = pd.read_csv('/content/drive/MyDrive/Colab Notebooks/PredictH1N1/submission_format.csv')"
      ],
      "execution_count": null,
      "outputs": []
    },
    {
      "cell_type": "code",
      "metadata": {
        "colab": {
          "base_uri": "https://localhost:8080/"
        },
        "id": "ia1c2IXxs4hY",
        "outputId": "4814e567-8a3b-4a3f-932e-2b454d61decb"
      },
      "source": [
        "train_set.shape"
      ],
      "execution_count": null,
      "outputs": [
        {
          "output_type": "execute_result",
          "data": {
            "text/plain": [
              "(26707, 36)"
            ]
          },
          "metadata": {},
          "execution_count": 17
        }
      ]
    },
    {
      "cell_type": "code",
      "metadata": {
        "colab": {
          "base_uri": "https://localhost:8080/"
        },
        "id": "mt3EWi27swGV",
        "outputId": "02f1f33c-d6e8-499c-d807-b6473bd34bb0"
      },
      "source": [
        "train_set.isnull().sum()"
      ],
      "execution_count": null,
      "outputs": [
        {
          "output_type": "execute_result",
          "data": {
            "text/plain": [
              "h1n1_concern                      92\n",
              "h1n1_knowledge                   116\n",
              "behavioral_antiviral_meds         71\n",
              "behavioral_avoidance             208\n",
              "behavioral_face_mask              19\n",
              "behavioral_wash_hands             42\n",
              "behavioral_large_gatherings       87\n",
              "behavioral_outside_home           82\n",
              "behavioral_touch_face            128\n",
              "doctor_recc_h1n1                2160\n",
              "doctor_recc_seasonal            2160\n",
              "chronic_med_condition            971\n",
              "child_under_6_months             820\n",
              "health_worker                    804\n",
              "health_insurance               12274\n",
              "opinion_h1n1_vacc_effective      391\n",
              "opinion_h1n1_risk                388\n",
              "opinion_h1n1_sick_from_vacc      395\n",
              "opinion_seas_vacc_effective      462\n",
              "opinion_seas_risk                514\n",
              "opinion_seas_sick_from_vacc      537\n",
              "age_group                          0\n",
              "education                       1407\n",
              "race                               0\n",
              "sex                                0\n",
              "income_poverty                  4423\n",
              "marital_status                  1408\n",
              "rent_or_own                     2042\n",
              "employment_status               1463\n",
              "hhs_geo_region                     0\n",
              "census_msa                         0\n",
              "household_adults                 249\n",
              "household_children               249\n",
              "employment_industry            13330\n",
              "employment_occupation          13470\n",
              "clusters                           0\n",
              "dtype: int64"
            ]
          },
          "metadata": {},
          "execution_count": 16
        }
      ]
    },
    {
      "cell_type": "code",
      "metadata": {
        "colab": {
          "base_uri": "https://localhost:8080/"
        },
        "id": "K2i3nh6gs_lo",
        "outputId": "c2011b3a-1cdb-46ed-fff6-ac664ac3737f"
      },
      "source": [
        "train_set.info()"
      ],
      "execution_count": null,
      "outputs": [
        {
          "output_type": "stream",
          "name": "stdout",
          "text": [
            "<class 'pandas.core.frame.DataFrame'>\n",
            "Int64Index: 26707 entries, 0 to 26706\n",
            "Data columns (total 36 columns):\n",
            " #   Column                       Non-Null Count  Dtype  \n",
            "---  ------                       --------------  -----  \n",
            " 0   h1n1_concern                 26615 non-null  float64\n",
            " 1   h1n1_knowledge               26591 non-null  float64\n",
            " 2   behavioral_antiviral_meds    26636 non-null  float64\n",
            " 3   behavioral_avoidance         26499 non-null  float64\n",
            " 4   behavioral_face_mask         26688 non-null  float64\n",
            " 5   behavioral_wash_hands        26665 non-null  float64\n",
            " 6   behavioral_large_gatherings  26620 non-null  float64\n",
            " 7   behavioral_outside_home      26625 non-null  float64\n",
            " 8   behavioral_touch_face        26579 non-null  float64\n",
            " 9   doctor_recc_h1n1             24547 non-null  float64\n",
            " 10  doctor_recc_seasonal         24547 non-null  float64\n",
            " 11  chronic_med_condition        25736 non-null  float64\n",
            " 12  child_under_6_months         25887 non-null  float64\n",
            " 13  health_worker                25903 non-null  float64\n",
            " 14  health_insurance             14433 non-null  float64\n",
            " 15  opinion_h1n1_vacc_effective  26316 non-null  float64\n",
            " 16  opinion_h1n1_risk            26319 non-null  float64\n",
            " 17  opinion_h1n1_sick_from_vacc  26312 non-null  float64\n",
            " 18  opinion_seas_vacc_effective  26245 non-null  float64\n",
            " 19  opinion_seas_risk            26193 non-null  float64\n",
            " 20  opinion_seas_sick_from_vacc  26170 non-null  float64\n",
            " 21  age_group                    26707 non-null  object \n",
            " 22  education                    25300 non-null  object \n",
            " 23  race                         26707 non-null  object \n",
            " 24  sex                          26707 non-null  object \n",
            " 25  income_poverty               22284 non-null  object \n",
            " 26  marital_status               25299 non-null  object \n",
            " 27  rent_or_own                  24665 non-null  object \n",
            " 28  employment_status            25244 non-null  object \n",
            " 29  hhs_geo_region               26707 non-null  object \n",
            " 30  census_msa                   26707 non-null  object \n",
            " 31  household_adults             26458 non-null  float64\n",
            " 32  household_children           26458 non-null  float64\n",
            " 33  employment_industry          13377 non-null  object \n",
            " 34  employment_occupation        13237 non-null  object \n",
            " 35  clusters                     26707 non-null  int32  \n",
            "dtypes: float64(23), int32(1), object(12)\n",
            "memory usage: 7.4+ MB\n"
          ]
        }
      ]
    },
    {
      "cell_type": "code",
      "metadata": {
        "id": "S_DVT5WSQgrZ"
      },
      "source": [
        "test_copy = test_set.copy()\n",
        "train_copy = train_set.copy()"
      ],
      "execution_count": null,
      "outputs": []
    },
    {
      "cell_type": "code",
      "metadata": {
        "id": "ZrLQ9ZcFQgra",
        "colab": {
          "base_uri": "https://localhost:8080/",
          "height": 304
        },
        "outputId": "873c9bcb-f59a-441e-f436-68fde49abc4b"
      },
      "source": [
        "train_set = train_set.set_index('respondent_id')\n",
        "test_set = test_set.set_index('respondent_id')"
      ],
      "execution_count": null,
      "outputs": [
        {
          "output_type": "error",
          "ename": "KeyError",
          "evalue": "ignored",
          "traceback": [
            "\u001b[0;31m---------------------------------------------------------------------------\u001b[0m",
            "\u001b[0;31mKeyError\u001b[0m                                  Traceback (most recent call last)",
            "\u001b[0;32m<ipython-input-20-e066e046a5eb>\u001b[0m in \u001b[0;36m<module>\u001b[0;34m()\u001b[0m\n\u001b[0;32m----> 1\u001b[0;31m \u001b[0mtrain_set\u001b[0m \u001b[0;34m=\u001b[0m \u001b[0mtrain_set\u001b[0m\u001b[0;34m.\u001b[0m\u001b[0mset_index\u001b[0m\u001b[0;34m(\u001b[0m\u001b[0;34m'respondent_id'\u001b[0m\u001b[0;34m)\u001b[0m\u001b[0;34m\u001b[0m\u001b[0;34m\u001b[0m\u001b[0m\n\u001b[0m\u001b[1;32m      2\u001b[0m \u001b[0mtest_set\u001b[0m \u001b[0;34m=\u001b[0m \u001b[0mtest_set\u001b[0m\u001b[0;34m.\u001b[0m\u001b[0mset_index\u001b[0m\u001b[0;34m(\u001b[0m\u001b[0;34m'respondent_id'\u001b[0m\u001b[0;34m)\u001b[0m\u001b[0;34m\u001b[0m\u001b[0;34m\u001b[0m\u001b[0m\n",
            "\u001b[0;32m/usr/local/lib/python3.7/dist-packages/pandas/core/frame.py\u001b[0m in \u001b[0;36mset_index\u001b[0;34m(self, keys, drop, append, inplace, verify_integrity)\u001b[0m\n\u001b[1;32m   4553\u001b[0m \u001b[0;34m\u001b[0m\u001b[0m\n\u001b[1;32m   4554\u001b[0m         \u001b[0;32mif\u001b[0m \u001b[0mmissing\u001b[0m\u001b[0;34m:\u001b[0m\u001b[0;34m\u001b[0m\u001b[0;34m\u001b[0m\u001b[0m\n\u001b[0;32m-> 4555\u001b[0;31m             \u001b[0;32mraise\u001b[0m \u001b[0mKeyError\u001b[0m\u001b[0;34m(\u001b[0m\u001b[0;34mf\"None of {missing} are in the columns\"\u001b[0m\u001b[0;34m)\u001b[0m\u001b[0;34m\u001b[0m\u001b[0;34m\u001b[0m\u001b[0m\n\u001b[0m\u001b[1;32m   4556\u001b[0m \u001b[0;34m\u001b[0m\u001b[0m\n\u001b[1;32m   4557\u001b[0m         \u001b[0;32mif\u001b[0m \u001b[0minplace\u001b[0m\u001b[0;34m:\u001b[0m\u001b[0;34m\u001b[0m\u001b[0;34m\u001b[0m\u001b[0m\n",
            "\u001b[0;31mKeyError\u001b[0m: \"None of ['respondent_id'] are in the columns\""
          ]
        }
      ]
    },
    {
      "cell_type": "code",
      "metadata": {
        "id": "6IKdc4cZQgra"
      },
      "source": [
        "y1 = train_label['h1n1_vaccine'].values\n",
        "y2 = train_label['seasonal_vaccine'].values\n",
        "train_label.head()\n"
      ],
      "execution_count": null,
      "outputs": []
    },
    {
      "cell_type": "code",
      "metadata": {
        "id": "wKE9kg5GQgrb"
      },
      "source": [
        "numeric_col = np.where(train_set.dtypes != object)[0]\n",
        "numeric_feat = [train_set.columns[x] for x in numeric_col]\n"
      ],
      "execution_count": null,
      "outputs": []
    },
    {
      "cell_type": "code",
      "metadata": {
        "id": "jVixMfiGQgrc"
      },
      "source": [
        "train_cluster_df = train_set[numeric_feat]\n",
        "test_cluster_df =  test_set[numeric_feat]\n",
        "\n",
        "train_cluster_df = train_cluster_df.fillna(-999)\n",
        "test_cluster_df = test_cluster_df.fillna(-999)"
      ],
      "execution_count": null,
      "outputs": []
    },
    {
      "cell_type": "code",
      "metadata": {
        "id": "IxE3XFq4Qgrc"
      },
      "source": [
        "kmeans = KMeans(4,random_state=42)\n",
        "kmeans.fit(train_cluster_df)\n",
        "train_set['clusters'] = kmeans.predict(train_cluster_df)\n",
        "test_set['clusters']  = kmeans.predict(test_cluster_df)"
      ],
      "execution_count": null,
      "outputs": []
    },
    {
      "cell_type": "code",
      "metadata": {
        "colab": {
          "base_uri": "https://localhost:8080/",
          "height": 475
        },
        "id": "3bF9SlmrSi3S",
        "outputId": "2a031353-c73c-4587-aa3e-b50ef37d3009"
      },
      "source": [
        "train_cluster_df"
      ],
      "execution_count": null,
      "outputs": [
        {
          "output_type": "execute_result",
          "data": {
            "text/html": [
              "<div>\n",
              "<style scoped>\n",
              "    .dataframe tbody tr th:only-of-type {\n",
              "        vertical-align: middle;\n",
              "    }\n",
              "\n",
              "    .dataframe tbody tr th {\n",
              "        vertical-align: top;\n",
              "    }\n",
              "\n",
              "    .dataframe thead th {\n",
              "        text-align: right;\n",
              "    }\n",
              "</style>\n",
              "<table border=\"1\" class=\"dataframe\">\n",
              "  <thead>\n",
              "    <tr style=\"text-align: right;\">\n",
              "      <th></th>\n",
              "      <th>h1n1_concern</th>\n",
              "      <th>h1n1_knowledge</th>\n",
              "      <th>behavioral_antiviral_meds</th>\n",
              "      <th>behavioral_avoidance</th>\n",
              "      <th>behavioral_face_mask</th>\n",
              "      <th>behavioral_wash_hands</th>\n",
              "      <th>behavioral_large_gatherings</th>\n",
              "      <th>behavioral_outside_home</th>\n",
              "      <th>behavioral_touch_face</th>\n",
              "      <th>doctor_recc_h1n1</th>\n",
              "      <th>doctor_recc_seasonal</th>\n",
              "      <th>chronic_med_condition</th>\n",
              "      <th>child_under_6_months</th>\n",
              "      <th>health_worker</th>\n",
              "      <th>health_insurance</th>\n",
              "      <th>opinion_h1n1_vacc_effective</th>\n",
              "      <th>opinion_h1n1_risk</th>\n",
              "      <th>opinion_h1n1_sick_from_vacc</th>\n",
              "      <th>opinion_seas_vacc_effective</th>\n",
              "      <th>opinion_seas_risk</th>\n",
              "      <th>opinion_seas_sick_from_vacc</th>\n",
              "      <th>household_adults</th>\n",
              "      <th>household_children</th>\n",
              "      <th>clusters</th>\n",
              "    </tr>\n",
              "    <tr>\n",
              "      <th>respondent_id</th>\n",
              "      <th></th>\n",
              "      <th></th>\n",
              "      <th></th>\n",
              "      <th></th>\n",
              "      <th></th>\n",
              "      <th></th>\n",
              "      <th></th>\n",
              "      <th></th>\n",
              "      <th></th>\n",
              "      <th></th>\n",
              "      <th></th>\n",
              "      <th></th>\n",
              "      <th></th>\n",
              "      <th></th>\n",
              "      <th></th>\n",
              "      <th></th>\n",
              "      <th></th>\n",
              "      <th></th>\n",
              "      <th></th>\n",
              "      <th></th>\n",
              "      <th></th>\n",
              "      <th></th>\n",
              "      <th></th>\n",
              "      <th></th>\n",
              "    </tr>\n",
              "  </thead>\n",
              "  <tbody>\n",
              "    <tr>\n",
              "      <th>0</th>\n",
              "      <td>1.0</td>\n",
              "      <td>0.0</td>\n",
              "      <td>0.0</td>\n",
              "      <td>0.0</td>\n",
              "      <td>0.0</td>\n",
              "      <td>0.0</td>\n",
              "      <td>0.0</td>\n",
              "      <td>1.0</td>\n",
              "      <td>1.0</td>\n",
              "      <td>0.0</td>\n",
              "      <td>0.0</td>\n",
              "      <td>0.0</td>\n",
              "      <td>0.0</td>\n",
              "      <td>0.0</td>\n",
              "      <td>1.0</td>\n",
              "      <td>3.0</td>\n",
              "      <td>1.0</td>\n",
              "      <td>2.0</td>\n",
              "      <td>2.0</td>\n",
              "      <td>1.0</td>\n",
              "      <td>2.0</td>\n",
              "      <td>0.0</td>\n",
              "      <td>0.0</td>\n",
              "      <td>1</td>\n",
              "    </tr>\n",
              "    <tr>\n",
              "      <th>1</th>\n",
              "      <td>3.0</td>\n",
              "      <td>2.0</td>\n",
              "      <td>0.0</td>\n",
              "      <td>1.0</td>\n",
              "      <td>0.0</td>\n",
              "      <td>1.0</td>\n",
              "      <td>0.0</td>\n",
              "      <td>1.0</td>\n",
              "      <td>1.0</td>\n",
              "      <td>0.0</td>\n",
              "      <td>0.0</td>\n",
              "      <td>0.0</td>\n",
              "      <td>0.0</td>\n",
              "      <td>0.0</td>\n",
              "      <td>1.0</td>\n",
              "      <td>5.0</td>\n",
              "      <td>4.0</td>\n",
              "      <td>4.0</td>\n",
              "      <td>4.0</td>\n",
              "      <td>2.0</td>\n",
              "      <td>4.0</td>\n",
              "      <td>0.0</td>\n",
              "      <td>0.0</td>\n",
              "      <td>1</td>\n",
              "    </tr>\n",
              "    <tr>\n",
              "      <th>2</th>\n",
              "      <td>1.0</td>\n",
              "      <td>1.0</td>\n",
              "      <td>0.0</td>\n",
              "      <td>1.0</td>\n",
              "      <td>0.0</td>\n",
              "      <td>0.0</td>\n",
              "      <td>0.0</td>\n",
              "      <td>0.0</td>\n",
              "      <td>0.0</td>\n",
              "      <td>-999.0</td>\n",
              "      <td>-999.0</td>\n",
              "      <td>1.0</td>\n",
              "      <td>0.0</td>\n",
              "      <td>0.0</td>\n",
              "      <td>-999.0</td>\n",
              "      <td>3.0</td>\n",
              "      <td>1.0</td>\n",
              "      <td>1.0</td>\n",
              "      <td>4.0</td>\n",
              "      <td>1.0</td>\n",
              "      <td>2.0</td>\n",
              "      <td>2.0</td>\n",
              "      <td>0.0</td>\n",
              "      <td>2</td>\n",
              "    </tr>\n",
              "    <tr>\n",
              "      <th>3</th>\n",
              "      <td>1.0</td>\n",
              "      <td>1.0</td>\n",
              "      <td>0.0</td>\n",
              "      <td>1.0</td>\n",
              "      <td>0.0</td>\n",
              "      <td>1.0</td>\n",
              "      <td>1.0</td>\n",
              "      <td>0.0</td>\n",
              "      <td>0.0</td>\n",
              "      <td>0.0</td>\n",
              "      <td>1.0</td>\n",
              "      <td>1.0</td>\n",
              "      <td>0.0</td>\n",
              "      <td>0.0</td>\n",
              "      <td>-999.0</td>\n",
              "      <td>3.0</td>\n",
              "      <td>3.0</td>\n",
              "      <td>5.0</td>\n",
              "      <td>5.0</td>\n",
              "      <td>4.0</td>\n",
              "      <td>1.0</td>\n",
              "      <td>0.0</td>\n",
              "      <td>0.0</td>\n",
              "      <td>0</td>\n",
              "    </tr>\n",
              "    <tr>\n",
              "      <th>4</th>\n",
              "      <td>2.0</td>\n",
              "      <td>1.0</td>\n",
              "      <td>0.0</td>\n",
              "      <td>1.0</td>\n",
              "      <td>0.0</td>\n",
              "      <td>1.0</td>\n",
              "      <td>1.0</td>\n",
              "      <td>0.0</td>\n",
              "      <td>1.0</td>\n",
              "      <td>0.0</td>\n",
              "      <td>0.0</td>\n",
              "      <td>0.0</td>\n",
              "      <td>0.0</td>\n",
              "      <td>0.0</td>\n",
              "      <td>-999.0</td>\n",
              "      <td>3.0</td>\n",
              "      <td>3.0</td>\n",
              "      <td>2.0</td>\n",
              "      <td>3.0</td>\n",
              "      <td>1.0</td>\n",
              "      <td>4.0</td>\n",
              "      <td>1.0</td>\n",
              "      <td>0.0</td>\n",
              "      <td>0</td>\n",
              "    </tr>\n",
              "    <tr>\n",
              "      <th>...</th>\n",
              "      <td>...</td>\n",
              "      <td>...</td>\n",
              "      <td>...</td>\n",
              "      <td>...</td>\n",
              "      <td>...</td>\n",
              "      <td>...</td>\n",
              "      <td>...</td>\n",
              "      <td>...</td>\n",
              "      <td>...</td>\n",
              "      <td>...</td>\n",
              "      <td>...</td>\n",
              "      <td>...</td>\n",
              "      <td>...</td>\n",
              "      <td>...</td>\n",
              "      <td>...</td>\n",
              "      <td>...</td>\n",
              "      <td>...</td>\n",
              "      <td>...</td>\n",
              "      <td>...</td>\n",
              "      <td>...</td>\n",
              "      <td>...</td>\n",
              "      <td>...</td>\n",
              "      <td>...</td>\n",
              "      <td>...</td>\n",
              "    </tr>\n",
              "    <tr>\n",
              "      <th>26702</th>\n",
              "      <td>2.0</td>\n",
              "      <td>0.0</td>\n",
              "      <td>0.0</td>\n",
              "      <td>1.0</td>\n",
              "      <td>0.0</td>\n",
              "      <td>0.0</td>\n",
              "      <td>0.0</td>\n",
              "      <td>1.0</td>\n",
              "      <td>0.0</td>\n",
              "      <td>0.0</td>\n",
              "      <td>0.0</td>\n",
              "      <td>0.0</td>\n",
              "      <td>0.0</td>\n",
              "      <td>0.0</td>\n",
              "      <td>-999.0</td>\n",
              "      <td>3.0</td>\n",
              "      <td>1.0</td>\n",
              "      <td>1.0</td>\n",
              "      <td>5.0</td>\n",
              "      <td>2.0</td>\n",
              "      <td>2.0</td>\n",
              "      <td>0.0</td>\n",
              "      <td>0.0</td>\n",
              "      <td>0</td>\n",
              "    </tr>\n",
              "    <tr>\n",
              "      <th>26703</th>\n",
              "      <td>1.0</td>\n",
              "      <td>2.0</td>\n",
              "      <td>0.0</td>\n",
              "      <td>1.0</td>\n",
              "      <td>0.0</td>\n",
              "      <td>1.0</td>\n",
              "      <td>0.0</td>\n",
              "      <td>0.0</td>\n",
              "      <td>0.0</td>\n",
              "      <td>1.0</td>\n",
              "      <td>1.0</td>\n",
              "      <td>0.0</td>\n",
              "      <td>0.0</td>\n",
              "      <td>1.0</td>\n",
              "      <td>1.0</td>\n",
              "      <td>4.0</td>\n",
              "      <td>2.0</td>\n",
              "      <td>2.0</td>\n",
              "      <td>5.0</td>\n",
              "      <td>1.0</td>\n",
              "      <td>1.0</td>\n",
              "      <td>1.0</td>\n",
              "      <td>0.0</td>\n",
              "      <td>1</td>\n",
              "    </tr>\n",
              "    <tr>\n",
              "      <th>26704</th>\n",
              "      <td>2.0</td>\n",
              "      <td>2.0</td>\n",
              "      <td>0.0</td>\n",
              "      <td>1.0</td>\n",
              "      <td>1.0</td>\n",
              "      <td>1.0</td>\n",
              "      <td>1.0</td>\n",
              "      <td>0.0</td>\n",
              "      <td>1.0</td>\n",
              "      <td>0.0</td>\n",
              "      <td>0.0</td>\n",
              "      <td>0.0</td>\n",
              "      <td>0.0</td>\n",
              "      <td>0.0</td>\n",
              "      <td>-999.0</td>\n",
              "      <td>4.0</td>\n",
              "      <td>4.0</td>\n",
              "      <td>2.0</td>\n",
              "      <td>5.0</td>\n",
              "      <td>4.0</td>\n",
              "      <td>2.0</td>\n",
              "      <td>0.0</td>\n",
              "      <td>0.0</td>\n",
              "      <td>0</td>\n",
              "    </tr>\n",
              "    <tr>\n",
              "      <th>26705</th>\n",
              "      <td>1.0</td>\n",
              "      <td>1.0</td>\n",
              "      <td>0.0</td>\n",
              "      <td>0.0</td>\n",
              "      <td>0.0</td>\n",
              "      <td>0.0</td>\n",
              "      <td>0.0</td>\n",
              "      <td>0.0</td>\n",
              "      <td>-999.0</td>\n",
              "      <td>0.0</td>\n",
              "      <td>0.0</td>\n",
              "      <td>0.0</td>\n",
              "      <td>0.0</td>\n",
              "      <td>0.0</td>\n",
              "      <td>0.0</td>\n",
              "      <td>3.0</td>\n",
              "      <td>1.0</td>\n",
              "      <td>2.0</td>\n",
              "      <td>2.0</td>\n",
              "      <td>1.0</td>\n",
              "      <td>2.0</td>\n",
              "      <td>1.0</td>\n",
              "      <td>0.0</td>\n",
              "      <td>1</td>\n",
              "    </tr>\n",
              "    <tr>\n",
              "      <th>26706</th>\n",
              "      <td>0.0</td>\n",
              "      <td>0.0</td>\n",
              "      <td>0.0</td>\n",
              "      <td>1.0</td>\n",
              "      <td>0.0</td>\n",
              "      <td>0.0</td>\n",
              "      <td>0.0</td>\n",
              "      <td>0.0</td>\n",
              "      <td>0.0</td>\n",
              "      <td>0.0</td>\n",
              "      <td>0.0</td>\n",
              "      <td>0.0</td>\n",
              "      <td>0.0</td>\n",
              "      <td>0.0</td>\n",
              "      <td>1.0</td>\n",
              "      <td>5.0</td>\n",
              "      <td>1.0</td>\n",
              "      <td>1.0</td>\n",
              "      <td>5.0</td>\n",
              "      <td>1.0</td>\n",
              "      <td>1.0</td>\n",
              "      <td>1.0</td>\n",
              "      <td>0.0</td>\n",
              "      <td>1</td>\n",
              "    </tr>\n",
              "  </tbody>\n",
              "</table>\n",
              "<p>26707 rows × 24 columns</p>\n",
              "</div>"
            ],
            "text/plain": [
              "               h1n1_concern  h1n1_knowledge  ...  household_children  clusters\n",
              "respondent_id                                ...                              \n",
              "0                       1.0             0.0  ...                 0.0         1\n",
              "1                       3.0             2.0  ...                 0.0         1\n",
              "2                       1.0             1.0  ...                 0.0         2\n",
              "3                       1.0             1.0  ...                 0.0         0\n",
              "4                       2.0             1.0  ...                 0.0         0\n",
              "...                     ...             ...  ...                 ...       ...\n",
              "26702                   2.0             0.0  ...                 0.0         0\n",
              "26703                   1.0             2.0  ...                 0.0         1\n",
              "26704                   2.0             2.0  ...                 0.0         0\n",
              "26705                   1.0             1.0  ...                 0.0         1\n",
              "26706                   0.0             0.0  ...                 0.0         1\n",
              "\n",
              "[26707 rows x 24 columns]"
            ]
          },
          "metadata": {},
          "execution_count": 24
        }
      ]
    },
    {
      "cell_type": "code",
      "metadata": {
        "colab": {
          "base_uri": "https://localhost:8080/"
        },
        "id": "ZYCNUdfEQgrd",
        "outputId": "b7a699cc-288e-4301-99ea-3c116ea52d98"
      },
      "source": [
        "train_set.columns"
      ],
      "execution_count": null,
      "outputs": [
        {
          "output_type": "execute_result",
          "data": {
            "text/plain": [
              "Index(['h1n1_concern', 'h1n1_knowledge', 'behavioral_antiviral_meds',\n",
              "       'behavioral_avoidance', 'behavioral_face_mask', 'behavioral_wash_hands',\n",
              "       'behavioral_large_gatherings', 'behavioral_outside_home',\n",
              "       'behavioral_touch_face', 'doctor_recc_h1n1', 'doctor_recc_seasonal',\n",
              "       'chronic_med_condition', 'child_under_6_months', 'health_worker',\n",
              "       'health_insurance', 'opinion_h1n1_vacc_effective', 'opinion_h1n1_risk',\n",
              "       'opinion_h1n1_sick_from_vacc', 'opinion_seas_vacc_effective',\n",
              "       'opinion_seas_risk', 'opinion_seas_sick_from_vacc', 'age_group',\n",
              "       'education', 'race', 'sex', 'income_poverty', 'marital_status',\n",
              "       'rent_or_own', 'employment_status', 'hhs_geo_region', 'census_msa',\n",
              "       'household_adults', 'household_children', 'employment_industry',\n",
              "       'employment_occupation', 'clusters'],\n",
              "      dtype='object')"
            ]
          },
          "metadata": {},
          "execution_count": 13
        }
      ]
    },
    {
      "cell_type": "code",
      "metadata": {
        "id": "gkB3w3-NspFd"
      },
      "source": [
        ""
      ],
      "execution_count": null,
      "outputs": []
    },
    {
      "cell_type": "code",
      "metadata": {
        "id": "JkB9xf0HQgrd"
      },
      "source": [
        "cols = ['behavioral_face_mask','behavioral_wash_hands','behavioral_touch_face',\n",
        "        'opinion_seas_vacc_effective','opinion_seas_risk'\n",
        "        ,'opinion_h1n1_vacc_effective','opinion_h1n1_risk'\n",
        "    ,'opinion_seas_vacc_effective' ,'opinion_seas_sick_from_vacc'    \n",
        "     ,'opinion_h1n1_vacc_effective' , 'opinion_h1n1_sick_from_vacc'\n",
        "     ,'h1n1_concern', 'h1n1_knowledge'\n",
        "     ,'household_adults','household_children'\n",
        "     ,'behavioral_large_gatherings' , 'behavioral_outside_home']\n"
      ],
      "execution_count": null,
      "outputs": []
    },
    {
      "cell_type": "code",
      "metadata": {
        "id": "OUEVa10pQgre"
      },
      "source": [
        "for col in cols:\n",
        "    train_set[col] = train_set[col].apply(str)\n",
        "    test_set[col] = test_set[col].apply(str)\n",
        "    "
      ],
      "execution_count": null,
      "outputs": []
    },
    {
      "cell_type": "code",
      "metadata": {
        "id": "i9p6kGTvQgre"
      },
      "source": [
        "train_set['total_persons'] = train_set['household_adults']+train_set['household_children']\n",
        "test_set['total_persons'] = test_set['household_adults']+test_set['household_children']"
      ],
      "execution_count": null,
      "outputs": []
    },
    {
      "cell_type": "code",
      "metadata": {
        "id": "4ggtWKt5Qgre"
      },
      "source": [
        "\n",
        "train_set['face_mask_wash_hand'] = train_set['behavioral_face_mask']+train_set['behavioral_wash_hands']\n",
        "train_set['face_mask_touch_face'] = train_set['behavioral_face_mask'] + train_set['behavioral_touch_face']\n",
        "train_set['wash_hands_touch_face'] = train_set['behavioral_wash_hands']+train_set['behavioral_touch_face']\n",
        "train_set['opinion_seas_eff_risk'] = train_set['opinion_seas_vacc_effective']+train_set['opinion_seas_risk']\n",
        "train_set['opinion_h1n1_eff_risk'] = train_set['opinion_h1n1_vacc_effective']+train_set['opinion_h1n1_risk']\n",
        "train_set['opinio_seas_vacc_eff_sick'] = train_set['opinion_seas_vacc_effective'] + train_set['opinion_seas_sick_from_vacc']\n",
        "train_set['opinon_h1n1_vacc_eff_sick'] = train_set['opinion_h1n1_vacc_effective']+train_set['opinion_h1n1_sick_from_vacc']\n",
        "train_set['h1n1_concern_knowledge']   = train_set['h1n1_concern'] + train_set['h1n1_knowledge']\n",
        "train_set['behaviour_large_gath_outside_home']  = train_set['behavioral_large_gatherings'] + train_set['behavioral_outside_home']\n",
        "train_set['opinion_seas_vaccine']  = train_set['opinion_seas_risk']+train_set['opinion_seas_sick_from_vacc']\n",
        "train_set['opinion_h1n1_vaccine']  = train_set['opinion_h1n1_risk']+train_set['opinion_h1n1_sick_from_vacc']\n",
        "\n",
        "\n",
        "\n",
        "\n",
        "test_set['face_mask_wash_hand'] = test_set['behavioral_face_mask']+test_set['behavioral_wash_hands']\n",
        "test_set['face_mask_touch_face'] = test_set['behavioral_face_mask'] + test_set['behavioral_touch_face']\n",
        "test_set['wash_hands_touch_face'] = test_set['behavioral_wash_hands']+test_set['behavioral_touch_face']\n",
        "test_set['opinion_seas_eff_risk'] = test_set['opinion_seas_vacc_effective']+test_set['opinion_seas_risk']\n",
        "test_set['opinion_h1n1_eff_risk'] = test_set['opinion_h1n1_vacc_effective']+test_set['opinion_h1n1_risk']\n",
        "test_set['opinio_seas_vacc_eff_sick'] = test_set['opinion_seas_vacc_effective'] + test_set['opinion_seas_sick_from_vacc']\n",
        "test_set['opinon_h1n1_vacc_eff_sick'] = test_set['opinion_h1n1_vacc_effective']+test_set['opinion_h1n1_sick_from_vacc']\n",
        "test_set['h1n1_concern_knowledge']   = test_set['h1n1_concern'] + test_set['h1n1_knowledge']\n",
        "test_set['behaviour_large_gath_outside_home']  = test_set['behavioral_large_gatherings'] + test_set['behavioral_outside_home']\n",
        "test_set['opinion_seas_vaccine']  = test_set['opinion_seas_risk']+test_set['opinion_seas_sick_from_vacc']\n",
        "test_set['opinion_h1n1_vaccine']  = test_set['opinion_h1n1_risk']+test_set['opinion_h1n1_sick_from_vacc']\n",
        "\n"
      ],
      "execution_count": null,
      "outputs": []
    },
    {
      "cell_type": "code",
      "metadata": {
        "id": "kBiIBs0yQgrf"
      },
      "source": [
        "to_drop = ['behavioral_face_mask','behavioral_wash_hands','behavioral_touch_face','opinion_seas_vacc_effective',\n",
        "           'opinion_seas_risk','opinion_h1n1_vacc_effective','opinion_h1n1_risk','opinion_seas_vacc_effective',\n",
        "           'opinion_seas_sick_from_vacc','opinion_h1n1_vacc_effective','opinion_h1n1_sick_from_vacc','h1n1_concern',\n",
        "           'h1n1_knowledge','behavioral_large_gatherings','behavioral_outside_home','household_adults','household_children']\n",
        "\n",
        "train_set = train_set.drop(to_drop,axis=1)\n",
        "test_set = test_set.drop(to_drop,axis=1)"
      ],
      "execution_count": null,
      "outputs": []
    },
    {
      "cell_type": "code",
      "metadata": {
        "id": "tIzgIHWvQgrf"
      },
      "source": [
        "train_set_A = train_set.copy()\n",
        "train_set_B = train_set.copy()"
      ],
      "execution_count": null,
      "outputs": []
    },
    {
      "cell_type": "code",
      "metadata": {
        "id": "iLTW54ASQgrg"
      },
      "source": [
        "train_set_A['h1n1_vaccine'] = y1\n",
        "train_set_B['seasonal_vaccine'] = y2"
      ],
      "execution_count": null,
      "outputs": []
    },
    {
      "cell_type": "code",
      "metadata": {
        "id": "XMaS1pjqQgrg"
      },
      "source": [
        ""
      ],
      "execution_count": null,
      "outputs": []
    },
    {
      "cell_type": "code",
      "metadata": {
        "id": "5DNbZjK9Qgrg"
      },
      "source": [
        "target_mean_A = train_set_A.groupby(['clusters']).mean()[['h1n1_vaccine']]\n",
        "for i in list(target_mean_A.columns):\n",
        "  target_mean_A.rename({i:i+\"_mean\"},axis=1,inplace=True)\n",
        "train_set_A = train_set_A.merge(target_mean_A,how='left',on='clusters')\n",
        "test_set_A = test_set.merge(target_mean_A,how=\"left\",on='clusters')\n"
      ],
      "execution_count": null,
      "outputs": []
    },
    {
      "cell_type": "code",
      "metadata": {
        "id": "wmby6z5EQgrg"
      },
      "source": [
        "target_mean_B = train_set_B.groupby(['clusters']).mean()[['seasonal_vaccine']]\n",
        "for i in list(target_mean_B.columns):\n",
        "  target_mean_B.rename({i:i+\"_mean\"},axis=1,inplace=True)\n",
        "train_set_B = train_set_B.merge(target_mean_B,how='left',on='clusters')\n",
        "test_set_B = test_set.merge(target_mean_B,how=\"left\",on='clusters')"
      ],
      "execution_count": null,
      "outputs": []
    },
    {
      "cell_type": "code",
      "metadata": {
        "colab": {
          "base_uri": "https://localhost:8080/"
        },
        "id": "Scsd7xz9Qgrk",
        "outputId": "5bde9679-0fcf-4613-961c-2c53efae4572"
      },
      "source": [
        "freq_enc_index = np.where(train_set_A.dtypes == object)[0];\n",
        "freq_enc_cols = [train_set_A.columns[x] for x in freq_enc_index];freq_enc_cols[:5]"
      ],
      "execution_count": null,
      "outputs": [
        {
          "output_type": "execute_result",
          "data": {
            "text/plain": [
              "['age_group', 'education', 'race', 'sex', 'income_poverty']"
            ]
          },
          "metadata": {},
          "execution_count": 33
        }
      ]
    },
    {
      "cell_type": "code",
      "metadata": {
        "id": "wtwhWyk9Qgrl"
      },
      "source": [
        ""
      ],
      "execution_count": null,
      "outputs": []
    },
    {
      "cell_type": "code",
      "metadata": {
        "id": "oIO6yOVaQgrl"
      },
      "source": [
        "train_set_A = train_set_A.fillna(-999)\n",
        "test_set_A = test_set_A.fillna(-999)\n",
        "\n",
        "train_set_B = train_set_B.fillna(-999)\n",
        "test_set_B = test_set_B.fillna(-999)"
      ],
      "execution_count": null,
      "outputs": []
    },
    {
      "cell_type": "code",
      "metadata": {
        "id": "suN5h6UaQgrl"
      },
      "source": [
        ""
      ],
      "execution_count": null,
      "outputs": []
    },
    {
      "cell_type": "code",
      "metadata": {
        "id": "NqnbKP-qQgrl"
      },
      "source": [
        "X_a = train_set_A.drop('h1n1_vaccine',axis=1)\n",
        "y_a = train_set_A['h1n1_vaccine']\n",
        "test_A = test_set_A.copy()\n",
        "\n",
        "X_b = train_set_B.drop('seasonal_vaccine',axis=1)\n",
        "y_b = train_set_B['seasonal_vaccine']\n",
        "test_B = test_set_B.copy()\n",
        "\n"
      ],
      "execution_count": null,
      "outputs": []
    },
    {
      "cell_type": "code",
      "metadata": {
        "colab": {
          "base_uri": "https://localhost:8080/"
        },
        "id": "W-npSnsIQgrl",
        "outputId": "44f98465-4a71-4530-b03e-083cd7a00ca5"
      },
      "source": [
        "categorical_A = np.where(X_a.dtypes == object)[0];categorical_A"
      ],
      "execution_count": null,
      "outputs": [
        {
          "output_type": "execute_result",
          "data": {
            "text/plain": [
              "array([ 8,  9, 10, 11, 12, 13, 14, 15, 16, 17, 18, 19, 21])"
            ]
          },
          "metadata": {},
          "execution_count": 36
        }
      ]
    },
    {
      "cell_type": "code",
      "metadata": {
        "colab": {
          "base_uri": "https://localhost:8080/"
        },
        "id": "wPEf-lWOQgrm",
        "outputId": "894524bd-d2bc-4f5d-dda0-6a4fb621cbb4"
      },
      "source": [
        "categorical_B = np.where(X_b.dtypes == object)[0];categorical_B"
      ],
      "execution_count": null,
      "outputs": [
        {
          "output_type": "execute_result",
          "data": {
            "text/plain": [
              "array([ 8,  9, 10, 11, 12, 13, 14, 15, 16, 17, 18, 19, 21])"
            ]
          },
          "metadata": {},
          "execution_count": 37
        }
      ]
    },
    {
      "cell_type": "code",
      "metadata": {
        "id": "m0up89Bfuga3"
      },
      "source": [
        ""
      ],
      "execution_count": null,
      "outputs": []
    },
    {
      "cell_type": "code",
      "metadata": {
        "id": "NSfPj8_1Qgrm"
      },
      "source": [
        "skf = StratifiedKFold(n_splits=10,random_state=42,shuffle=True)\n",
        "cat = CatBoostClassifier(iterations=50000,random_state=42,reg_lambda=30,eval_metric='AUC',custom_loss='Logloss')\n",
        "h1n1_scores = []\n",
        "h1n1_pred= np.zeros(len(test_A))\n",
        "for fold, (train_index,test_index) in enumerate(skf.split(X_a,y_a)):\n",
        "    print(f'====================================== FOLD {fold} ======================================================')\n",
        "    X_train,X_test = X_a.iloc[train_index],X_a.iloc[test_index]\n",
        "    y_train,y_test = y_a.iloc[train_index],y_a.iloc[test_index]\n",
        "    cat.fit(X_train,y_train,early_stopping_rounds=500,eval_set=[(X_train,y_train),(X_test,y_test)],use_best_model=True,cat_features=categorical_A)\n",
        "    h1n1_scores.append(roc_auc_score(y_test,cat.predict_proba(X_test)[:,1]))\n",
        "    h1n1_pred +=cat.predict_proba(test_A)[:,1]"
      ],
      "execution_count": null,
      "outputs": []
    },
    {
      "cell_type": "code",
      "metadata": {
        "id": "oKo-ciDtQgrm"
      },
      "source": [
        "pred1 = h1n1_pred/10"
      ],
      "execution_count": null,
      "outputs": []
    },
    {
      "cell_type": "code",
      "metadata": {
        "id": "roqwp5YpQgrm",
        "colab": {
          "base_uri": "https://localhost:8080/"
        },
        "outputId": "45a1aed1-762f-4b00-9e57-33b416d439b1"
      },
      "source": [
        "np.mean(h1n1_scores)"
      ],
      "execution_count": null,
      "outputs": [
        {
          "output_type": "execute_result",
          "data": {
            "text/plain": [
              "0.8173138634839532"
            ]
          },
          "metadata": {},
          "execution_count": 51
        }
      ]
    },
    {
      "cell_type": "code",
      "metadata": {
        "scrolled": false,
        "id": "RVNh7zS8Qgrm"
      },
      "source": [
        ""
      ],
      "execution_count": null,
      "outputs": []
    },
    {
      "cell_type": "code",
      "metadata": {
        "id": "DndruyEOQgrm"
      },
      "source": [
        "skf = StratifiedKFold(n_splits=10,random_state=42,shuffle=True)\n",
        "cat = CatBoostClassifier(iterations=50000,random_state=42,reg_lambda=30,eval_metric='AUC',custom_loss='Logloss')\n",
        "season_scores = []\n",
        "season_pred= np.zeros(len(test_B))\n",
        "for fold, (train_index,test_index) in enumerate(skf.split(X_b,y_b)):\n",
        "    print(f'====================================== FOLD {fold} ======================================================')\n",
        "    X_train,X_test = X_b.iloc[train_index],X_b.iloc[test_index]\n",
        "    y_train,y_test = y_b.iloc[train_index],y_b.iloc[test_index]\n",
        "    cat.fit(X_train,y_train,early_stopping_rounds=500,eval_set=[(X_train,y_train),(X_test,y_test)],use_best_model=True,cat_features=categorical_B)\n",
        "    season_scores.append(roc_auc_score(y_test,cat.predict_proba(X_test)[:,1]))\n",
        "    season_pred +=cat.predict_proba(test_B)[:,1]"
      ],
      "execution_count": null,
      "outputs": []
    },
    {
      "cell_type": "code",
      "metadata": {
        "id": "O_UuvxO4Qgrn"
      },
      "source": [
        "pred2 = season_pred/10"
      ],
      "execution_count": null,
      "outputs": []
    },
    {
      "cell_type": "code",
      "metadata": {
        "colab": {
          "base_uri": "https://localhost:8080/"
        },
        "id": "lNnUZOI-Qgrn",
        "outputId": "84f08335-084d-4443-8958-3a9e5f455085"
      },
      "source": [
        "np.mean(season_scores)"
      ],
      "execution_count": null,
      "outputs": [
        {
          "output_type": "execute_result",
          "data": {
            "text/plain": [
              "0.782538682062792"
            ]
          },
          "metadata": {},
          "execution_count": 44
        }
      ]
    },
    {
      "cell_type": "code",
      "metadata": {
        "id": "TGFlRm_kQgrn"
      },
      "source": [
        "submission['h1n1_vaccine'] = pred1\n",
        "submission['seasonal_vaccine'] = pred2"
      ],
      "execution_count": null,
      "outputs": []
    },
    {
      "cell_type": "code",
      "metadata": {
        "colab": {
          "base_uri": "https://localhost:8080/",
          "height": 300
        },
        "id": "RdKuE1uLQgrn",
        "outputId": "9d7746af-659c-4574-9d22-4ea85a0089ff"
      },
      "source": [
        "submission.describe()"
      ],
      "execution_count": null,
      "outputs": [
        {
          "output_type": "execute_result",
          "data": {
            "text/html": [
              "<div>\n",
              "<style scoped>\n",
              "    .dataframe tbody tr th:only-of-type {\n",
              "        vertical-align: middle;\n",
              "    }\n",
              "\n",
              "    .dataframe tbody tr th {\n",
              "        vertical-align: top;\n",
              "    }\n",
              "\n",
              "    .dataframe thead th {\n",
              "        text-align: right;\n",
              "    }\n",
              "</style>\n",
              "<table border=\"1\" class=\"dataframe\">\n",
              "  <thead>\n",
              "    <tr style=\"text-align: right;\">\n",
              "      <th></th>\n",
              "      <th>respondent_id</th>\n",
              "      <th>h1n1_vaccine</th>\n",
              "      <th>seasonal_vaccine</th>\n",
              "    </tr>\n",
              "  </thead>\n",
              "  <tbody>\n",
              "    <tr>\n",
              "      <th>count</th>\n",
              "      <td>26708.000000</td>\n",
              "      <td>26708.000000</td>\n",
              "      <td>26708.000000</td>\n",
              "    </tr>\n",
              "    <tr>\n",
              "      <th>mean</th>\n",
              "      <td>40060.500000</td>\n",
              "      <td>0.212845</td>\n",
              "      <td>0.466110</td>\n",
              "    </tr>\n",
              "    <tr>\n",
              "      <th>std</th>\n",
              "      <td>7710.079831</td>\n",
              "      <td>0.199013</td>\n",
              "      <td>0.239023</td>\n",
              "    </tr>\n",
              "    <tr>\n",
              "      <th>min</th>\n",
              "      <td>26707.000000</td>\n",
              "      <td>0.016773</td>\n",
              "      <td>0.049880</td>\n",
              "    </tr>\n",
              "    <tr>\n",
              "      <th>25%</th>\n",
              "      <td>33383.750000</td>\n",
              "      <td>0.060562</td>\n",
              "      <td>0.253921</td>\n",
              "    </tr>\n",
              "    <tr>\n",
              "      <th>50%</th>\n",
              "      <td>40060.500000</td>\n",
              "      <td>0.147472</td>\n",
              "      <td>0.446131</td>\n",
              "    </tr>\n",
              "    <tr>\n",
              "      <th>75%</th>\n",
              "      <td>46737.250000</td>\n",
              "      <td>0.266449</td>\n",
              "      <td>0.654844</td>\n",
              "    </tr>\n",
              "    <tr>\n",
              "      <th>max</th>\n",
              "      <td>53414.000000</td>\n",
              "      <td>0.907058</td>\n",
              "      <td>0.940776</td>\n",
              "    </tr>\n",
              "  </tbody>\n",
              "</table>\n",
              "</div>"
            ],
            "text/plain": [
              "       respondent_id  h1n1_vaccine  seasonal_vaccine\n",
              "count   26708.000000  26708.000000      26708.000000\n",
              "mean    40060.500000      0.212845          0.466110\n",
              "std      7710.079831      0.199013          0.239023\n",
              "min     26707.000000      0.016773          0.049880\n",
              "25%     33383.750000      0.060562          0.253921\n",
              "50%     40060.500000      0.147472          0.446131\n",
              "75%     46737.250000      0.266449          0.654844\n",
              "max     53414.000000      0.907058          0.940776"
            ]
          },
          "metadata": {},
          "execution_count": 46
        }
      ]
    },
    {
      "cell_type": "code",
      "metadata": {
        "colab": {
          "base_uri": "https://localhost:8080/",
          "height": 143
        },
        "id": "AdPEQj0HQgrn",
        "outputId": "d5e81315-0d16-49e3-c7df-28b34bb60b41"
      },
      "source": [
        "submission.corr()"
      ],
      "execution_count": null,
      "outputs": [
        {
          "output_type": "execute_result",
          "data": {
            "text/html": [
              "<div>\n",
              "<style scoped>\n",
              "    .dataframe tbody tr th:only-of-type {\n",
              "        vertical-align: middle;\n",
              "    }\n",
              "\n",
              "    .dataframe tbody tr th {\n",
              "        vertical-align: top;\n",
              "    }\n",
              "\n",
              "    .dataframe thead th {\n",
              "        text-align: right;\n",
              "    }\n",
              "</style>\n",
              "<table border=\"1\" class=\"dataframe\">\n",
              "  <thead>\n",
              "    <tr style=\"text-align: right;\">\n",
              "      <th></th>\n",
              "      <th>respondent_id</th>\n",
              "      <th>h1n1_vaccine</th>\n",
              "      <th>seasonal_vaccine</th>\n",
              "    </tr>\n",
              "  </thead>\n",
              "  <tbody>\n",
              "    <tr>\n",
              "      <th>respondent_id</th>\n",
              "      <td>1.000000</td>\n",
              "      <td>-0.003967</td>\n",
              "      <td>0.001742</td>\n",
              "    </tr>\n",
              "    <tr>\n",
              "      <th>h1n1_vaccine</th>\n",
              "      <td>-0.003967</td>\n",
              "      <td>1.000000</td>\n",
              "      <td>0.555422</td>\n",
              "    </tr>\n",
              "    <tr>\n",
              "      <th>seasonal_vaccine</th>\n",
              "      <td>0.001742</td>\n",
              "      <td>0.555422</td>\n",
              "      <td>1.000000</td>\n",
              "    </tr>\n",
              "  </tbody>\n",
              "</table>\n",
              "</div>"
            ],
            "text/plain": [
              "                  respondent_id  h1n1_vaccine  seasonal_vaccine\n",
              "respondent_id          1.000000     -0.003967          0.001742\n",
              "h1n1_vaccine          -0.003967      1.000000          0.555422\n",
              "seasonal_vaccine       0.001742      0.555422          1.000000"
            ]
          },
          "metadata": {},
          "execution_count": 47
        }
      ]
    },
    {
      "cell_type": "code",
      "metadata": {
        "id": "HZszdsVqQgro"
      },
      "source": [
        "submission.to_csv('/content/drive/MyDrive/Colab Notebooks/PredictH1N1/cat_handle.csv',index=False)"
      ],
      "execution_count": null,
      "outputs": []
    },
    {
      "cell_type": "code",
      "metadata": {
        "id": "RBZKwaffQgro"
      },
      "source": [
        ""
      ],
      "execution_count": null,
      "outputs": []
    },
    {
      "cell_type": "code",
      "metadata": {
        "id": "CmETwNWrQgro"
      },
      "source": [
        ""
      ],
      "execution_count": null,
      "outputs": []
    },
    {
      "cell_type": "code",
      "metadata": {
        "id": "WC-aYAVaQgro"
      },
      "source": [
        "cat_handle = pd.read_csv('/content/drive/MyDrive/Colab Notebooks/PredictH1N1/cat_handle.csv')"
      ],
      "execution_count": null,
      "outputs": []
    },
    {
      "cell_type": "code",
      "metadata": {
        "id": "2MKusfBAQgro"
      },
      "source": [
        "catt = pd.read_csv('cat.csv')"
      ],
      "execution_count": null,
      "outputs": []
    },
    {
      "cell_type": "code",
      "metadata": {
        "id": "2b5ewKbiQgro"
      },
      "source": [
        "sta1  = (cat_handle['h1n1_vaccine'] *0.85) + (catt['h1n1_vaccine'] *0.15)"
      ],
      "execution_count": null,
      "outputs": []
    },
    {
      "cell_type": "code",
      "metadata": {
        "id": "JAwerpvuQgro"
      },
      "source": [
        "sta2 = (cat_handle['seasonal_vaccine']*0.85) + (catt['seasonal_vaccine'] *0.15)"
      ],
      "execution_count": null,
      "outputs": []
    },
    {
      "cell_type": "code",
      "metadata": {
        "id": "yvRA5f6vQgro"
      },
      "source": [
        "submission['h1n1_vaccine'] = sta1\n",
        "submission['seasonal_vaccine'] = sta2"
      ],
      "execution_count": null,
      "outputs": []
    },
    {
      "cell_type": "code",
      "metadata": {
        "id": "_oV4HiloQgrp"
      },
      "source": [
        "submission.to_csv('stack.csv',index=False)"
      ],
      "execution_count": null,
      "outputs": []
    },
    {
      "cell_type": "code",
      "metadata": {
        "id": "hGjNKGmfQgrp"
      },
      "source": [
        ""
      ],
      "execution_count": null,
      "outputs": []
    }
  ]
}